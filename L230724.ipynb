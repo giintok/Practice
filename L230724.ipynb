{
  "cells": [
    {
      "cell_type": "markdown",
      "metadata": {
        "id": "view-in-github",
        "colab_type": "text"
      },
      "source": [
        "<a href=\"https://colab.research.google.com/github/giintok/Practice/blob/main/L230724.ipynb\" target=\"_parent\"><img src=\"https://colab.research.google.com/assets/colab-badge.svg\" alt=\"Open In Colab\"/></a>"
      ]
    },
    {
      "cell_type": "markdown",
      "metadata": {
        "id": "idWtUl54HqE1"
      },
      "source": [
        "**2023 - 07 - 24 (월)**\n",
        "\n",
        "-최종은 5명정도 팀\n",
        "\n",
        "1. 포트폴리오\n",
        "2. 웹 표출 해보는 프로젝트 (데이타 분석해서 웹으로 보여줘 설명하는것)\n",
        "    \n",
        "    DAS : 데이터 수집 시스템\n",
        "\n",
        "    DSS : 데이터 저장 시스템\n",
        "\n",
        "    JPS : 데이터 분석, 처리\n",
        "\n",
        "    WSS : 웹표출 시스템\n",
        "\n",
        "    회사가 가서도 뭘 해야할지 모르겠으면 4가지를 하고 있는지 체크 해봐라"
      ]
    },
    {
      "cell_type": "markdown",
      "metadata": {
        "id": "WSgGcn7OKc6l"
      },
      "source": [
        "1. 파일 탐색기 만들어봐라\n",
        "\n",
        "    - 이름이 아닌 파일 내용 검색\n",
        "\n",
        "    - 어떤 1200개의 파일이 있는데 이 파일에서 index라는 문구가 담겨있는 파일을 모두 검색해라.\n",
        "\n",
        "    검색 폴더 대상 : {'/usr/local/lib/python3.10/dist-packages/pandas/'}\n",
        "\n",
        "    출력 형태 : {'/usr/local/lib/python3.10/dist-packages/pandas/testing.py':['index()', 'def index(a, bd,)', 'data=index()']}\n",
        "\n",
        "    1). 파일 이름가져오기 -> 파일 리스트\n",
        "    \n",
        "    2). 파일 리스틀 읽어내여 'index'가 있는지 검사하기"
      ]
    },
    {
      "cell_type": "code",
      "execution_count": null,
      "metadata": {
        "colab": {
          "base_uri": "https://localhost:8080/"
        },
        "id": "q2_bhaOtH2e-",
        "outputId": "fdeb0fc2-3c21-46d8-f243-3b6cf45bc354"
      },
      "outputs": [
        {
          "data": {
            "text/plain": [
              "<module 'pandas' from '/usr/local/lib/python3.10/dist-packages/pandas/__init__.py'>"
            ]
          },
          "execution_count": 1,
          "metadata": {},
          "output_type": "execute_result"
        }
      ],
      "source": [
        "__import__('pandas')"
      ]
    },
    {
      "cell_type": "code",
      "execution_count": null,
      "metadata": {
        "id": "2jywqI0LKoIM"
      },
      "outputs": [],
      "source": []
    },
    {
      "cell_type": "code",
      "execution_count": null,
      "metadata": {
        "colab": {
          "base_uri": "https://localhost:8080/"
        },
        "id": "MPYk3k9iQCiQ",
        "outputId": "17fbb235-3b00-41ba-92b6-dcdf25ab2c68"
      },
      "outputs": [
        {
          "name": "stdout",
          "output_type": "stream",
          "text": [
            "\u001b[0m\u001b[01;34mapi\u001b[0m/      conftest.py  \u001b[01;34mio\u001b[0m/           \u001b[01;34m_testing\u001b[0m/   _typing.py\n",
            "\u001b[01;34marrays\u001b[0m/   \u001b[01;34mcore\u001b[0m/        \u001b[01;34m_libs\u001b[0m/        testing.py  \u001b[01;34mutil\u001b[0m/\n",
            "\u001b[01;34mcompat\u001b[0m/   \u001b[01;34merrors\u001b[0m/      \u001b[01;34mplotting\u001b[0m/     \u001b[01;34mtests\u001b[0m/      _version.py\n",
            "\u001b[01;34m_config\u001b[0m/  __init__.py  \u001b[01;34m__pycache__\u001b[0m/  \u001b[01;34mtseries\u001b[0m/\n"
          ]
        }
      ],
      "source": [
        "ls /usr/local/lib/python3.10/dist-packages/pandas/"
      ]
    },
    {
      "cell_type": "code",
      "execution_count": null,
      "metadata": {
        "id": "GolmmUSnXr9g"
      },
      "outputs": [],
      "source": [
        "import os"
      ]
    },
    {
      "cell_type": "code",
      "execution_count": null,
      "metadata": {
        "colab": {
          "base_uri": "https://localhost:8080/"
        },
        "id": "Gmh0LV7ZRPwC",
        "outputId": "120297b9-6ea2-487f-fe0e-b46492d6be9e"
      },
      "outputs": [
        {
          "name": "stdout",
          "output_type": "stream",
          "text": [
            "Searching for 'index334' in .py files under '/usr/locallib/python3.10/dist-packages/pandas/'...\n"
          ]
        }
      ],
      "source": [
        "import os\n",
        "def search_in_files(search_term, folder_path):\n",
        "    print(f\"Searching for '{search_term}' in .py files under '{folder_path}'...\")\n",
        "    for root, _, files in os.walk(folder_path):\n",
        "        for file in files:\n",
        "            if file.endswith('.py'):\n",
        "                file_path = os.path.join(root, file)\n",
        "                try:\n",
        "                    with open(file_path, 'r', encoding='UTF-8') as f:\n",
        "                        for line_number, line in enumerate(f, start=1):\n",
        "                            if search_term in line:\n",
        "                                print(f\"{file_path}\")\n",
        "                                print(f\"Line {line_number} : {line.strip()}\")\n",
        "                except Exception as e:\n",
        "                    print(f\"오류 발생 '{file_path}': {e}\")\n",
        "\n",
        "if __name__ == \"__main__\":\n",
        "    search_term = ('index')\n",
        "    folder_path = ('/usr/local/lib/python3.10/dist-packages/pandas/')\n",
        "    search_in_files(search_term, folder_path)"
      ]
    },
    {
      "cell_type": "code",
      "execution_count": null,
      "metadata": {
        "id": "rbnOcLzKY7X1"
      },
      "outputs": [],
      "source": [
        "import os\n",
        "\n",
        "def search_in_files(search_term, folder_path):\n",
        "    print(f\"Searching for '{search_term}' in .py files under '{folder_path}'...\")\n",
        "    for root, _, files in os.walk(folder_path):\n",
        "        for file in files:\n",
        "            if file.endswith(\".py\"):\n",
        "                file_path = os.path.join(root, file)\n",
        "                try:\n",
        "                    with open(file_path, 'r', encoding=\"utf-8\") as f:\n",
        "                        for line_number, line in enumerate(f, start=1):\n",
        "                            if search_term in line:\n",
        "                                print(f\"Found in '{file_path}', Line {line_number}: {line.strip()}\")\n",
        "                except Exception as e:\n",
        "                    print(f\"Error while reading '{file_path}': {e}\")\n",
        "\n",
        "if __name__ == \"__main__\":\n",
        "    search_term = input(\"찾고자 하는 키워드를 입력하세요: \")\n",
        "    folder_path = input(\"파일 경로를 입력하세요: \")\n",
        "    search_in_files(search_term, folder_path)"
      ]
    },
    {
      "cell_type": "code",
      "execution_count": null,
      "metadata": {
        "id": "L3f371BWldZQ"
      },
      "outputs": [],
      "source": [
        "import glob\n",
        "\n",
        "def search_in_files(root_path, keyword):\n",
        "    file_paths = glob.glob(f'{root_path}/**/*{keyword}*.py', recursive=True)\n",
        "    return file_paths\n",
        "\n",
        "if __name__ == \"__main__\":\n",
        "    folder_path = '/usr/local/lib/python3.10/dist-packages/pandas'\n",
        "    search_term = 'index'\n",
        "    result = search_in_files(folder_path, search_term)\n",
        "\n",
        "    if result:\n",
        "        print(\"검색 결과:\")\n",
        "        for path in result:\n",
        "            print(path)\n",
        "    else:\n",
        "        print(\"검색 결과가 없습니다.\")"
      ]
    },
    {
      "cell_type": "code",
      "source": [
        "import glob\n",
        "\n",
        "file_path = glob.glob('/usr/local/pandas/**/*.py', recursive=True)\n",
        "with open('file_path.') as f:\n",
        "    line = f.readlines()\n",
        "    if file.endswith(\".py\"):\n",
        "        if line == 'index':\n",
        "            print(line, end='')\n",
        "        else:\n",
        "            print(\"값이 없습니다.\")"
      ],
      "metadata": {
        "id": "VISA6etJqYLa"
      },
      "execution_count": null,
      "outputs": []
    },
    {
      "cell_type": "code",
      "source": [],
      "metadata": {
        "id": "GXVI0uKqty_b"
      },
      "execution_count": null,
      "outputs": []
    },
    {
      "cell_type": "markdown",
      "source": [
        "**같이 풀어보기**"
      ],
      "metadata": {
        "id": "Ich4vKg18Ysx"
      }
    },
    {
      "cell_type": "code",
      "source": [
        "__import__('pandas')"
      ],
      "metadata": {
        "colab": {
          "base_uri": "https://localhost:8080/"
        },
        "id": "JoyjRcbA-FZ-",
        "outputId": "c9473553-a53d-4a13-83d3-39c6b64d4500"
      },
      "execution_count": null,
      "outputs": [
        {
          "output_type": "execute_result",
          "data": {
            "text/plain": [
              "<module 'pandas' from '/usr/local/lib/python3.10/dist-packages/pandas/__init__.py'>"
            ]
          },
          "metadata": {},
          "execution_count": 136
        }
      ]
    },
    {
      "cell_type": "code",
      "source": [
        "str(__import__('pandas')).split()"
      ],
      "metadata": {
        "colab": {
          "base_uri": "https://localhost:8080/"
        },
        "id": "KdColCZ79anW",
        "outputId": "f10fdd0d-4f77-479a-80df-596cb1bab87c"
      },
      "execution_count": null,
      "outputs": [
        {
          "output_type": "execute_result",
          "data": {
            "text/plain": [
              "['<module',\n",
              " \"'pandas'\",\n",
              " 'from',\n",
              " \"'/usr/local/lib/python3.10/dist-packages/pandas/__init__.py'>\"]"
            ]
          },
          "metadata": {},
          "execution_count": 129
        }
      ]
    },
    {
      "cell_type": "code",
      "source": [
        "str(__import__('pandas')).split()[-1] # = str(__import__('pandas')).split()[-3]"
      ],
      "metadata": {
        "colab": {
          "base_uri": "https://localhost:8080/",
          "height": 35
        },
        "id": "JM0I1_qF9h1G",
        "outputId": "d0bdb3ba-3b63-4bc0-cb9a-375ad2ade18f"
      },
      "execution_count": null,
      "outputs": [
        {
          "output_type": "execute_result",
          "data": {
            "text/plain": [
              "\"'/usr/local/lib/python3.10/dist-packages/pandas/__init__.py'>\""
            ],
            "application/vnd.google.colaboratory.intrinsic+json": {
              "type": "string"
            }
          },
          "metadata": {},
          "execution_count": 131
        }
      ]
    },
    {
      "cell_type": "code",
      "source": [
        "str(__import__('pandas')).split()[3].strip(' \\' ')    # ' 따움표를 없애고 싶으면 백슬래쉬 붙여줘야함"
      ],
      "metadata": {
        "colab": {
          "base_uri": "https://localhost:8080/",
          "height": 35
        },
        "id": "3Sqlus1O8pLg",
        "outputId": "1510e782-9e93-4d1d-c1e5-085402d298af"
      },
      "execution_count": null,
      "outputs": [
        {
          "output_type": "execute_result",
          "data": {
            "text/plain": [
              "\"/usr/local/lib/python3.10/dist-packages/pandas/__init__.py'>\""
            ],
            "application/vnd.google.colaboratory.intrinsic+json": {
              "type": "string"
            }
          },
          "metadata": {},
          "execution_count": 134
        }
      ]
    },
    {
      "cell_type": "code",
      "source": [
        "str(__import__('pandas')).split()[3].strip(' \\' ').split('/')"
      ],
      "metadata": {
        "colab": {
          "base_uri": "https://localhost:8080/"
        },
        "id": "zVyKeN0X99T-",
        "outputId": "7352247f-b058-48aa-e0cd-9e1cbb0163e0"
      },
      "execution_count": null,
      "outputs": [
        {
          "output_type": "execute_result",
          "data": {
            "text/plain": [
              "['',\n",
              " 'usr',\n",
              " 'local',\n",
              " 'lib',\n",
              " 'python3.10',\n",
              " 'dist-packages',\n",
              " 'pandas',\n",
              " \"__init__.py'>\"]"
            ]
          },
          "metadata": {},
          "execution_count": 135
        }
      ]
    },
    {
      "cell_type": "code",
      "source": [
        "str(__import__('pandas')).split()[3].strip(' \\' ').split('/')[:-1]"
      ],
      "metadata": {
        "colab": {
          "base_uri": "https://localhost:8080/"
        },
        "id": "wkCYlMi2-Icm",
        "outputId": "ef42d18b-c7b5-421f-81ca-cc59bae08cc3"
      },
      "execution_count": null,
      "outputs": [
        {
          "output_type": "execute_result",
          "data": {
            "text/plain": [
              "['', 'usr', 'local', 'lib', 'python3.10', 'dist-packages', 'pandas']"
            ]
          },
          "metadata": {},
          "execution_count": 140
        }
      ]
    },
    {
      "cell_type": "code",
      "source": [
        "'/'.join(str(__import__('pandas')).split()[-1].strip(' \\' ').split('/'))"
      ],
      "metadata": {
        "colab": {
          "base_uri": "https://localhost:8080/",
          "height": 35
        },
        "id": "raYkcpmO-Lry",
        "outputId": "548983c0-d986-44dc-8fa0-fb01dac60770"
      },
      "execution_count": null,
      "outputs": [
        {
          "output_type": "execute_result",
          "data": {
            "text/plain": [
              "\"/usr/local/lib/python3.10/dist-packages/pandas/__init__.py'>\""
            ],
            "application/vnd.google.colaboratory.intrinsic+json": {
              "type": "string"
            }
          },
          "metadata": {},
          "execution_count": 184
        }
      ]
    },
    {
      "cell_type": "code",
      "source": [
        "glob.glob('./**/*.py', recursive=True)      #"
      ],
      "metadata": {
        "colab": {
          "base_uri": "https://localhost:8080/"
        },
        "id": "9z9iVaHo-Y1I",
        "outputId": "5830e79c-7fab-4204-9039-5609f49f4270"
      },
      "execution_count": null,
      "outputs": [
        {
          "output_type": "execute_result",
          "data": {
            "text/plain": [
              "[]"
            ]
          },
          "metadata": {},
          "execution_count": 141
        }
      ]
    },
    {
      "cell_type": "code",
      "source": [
        "s_path = '/'.join(str(__import__('pandas')).split()[-1].strip(' \\' ').split('/'))"
      ],
      "metadata": {
        "id": "eoHTeubq-n5Z"
      },
      "execution_count": null,
      "outputs": []
    },
    {
      "cell_type": "code",
      "source": [
        "s_path"
      ],
      "metadata": {
        "colab": {
          "base_uri": "https://localhost:8080/",
          "height": 35
        },
        "id": "tKqvCDo8HT95",
        "outputId": "b1bb45b3-0dbc-4c33-9e4a-4a8902d36bf1"
      },
      "execution_count": null,
      "outputs": [
        {
          "output_type": "execute_result",
          "data": {
            "text/plain": [
              "\"/usr/local/lib/python3.10/dist-packages/pandas/__init__.py'>\""
            ],
            "application/vnd.google.colaboratory.intrinsic+json": {
              "type": "string"
            }
          },
          "metadata": {},
          "execution_count": 203
        }
      ]
    },
    {
      "cell_type": "code",
      "source": [
        "s_path = '/'.join(str(__import__('pandas')).split()[-1].strip('\\'').split('/')[:-1]) + '/'"
      ],
      "metadata": {
        "id": "BrDio0RIHPo2"
      },
      "execution_count": null,
      "outputs": []
    },
    {
      "cell_type": "code",
      "source": [
        "s_path"
      ],
      "metadata": {
        "colab": {
          "base_uri": "https://localhost:8080/",
          "height": 35
        },
        "id": "1WWDM9-p-q-P",
        "outputId": "37b93286-c3d8-40ce-8e2c-bbcb876b57dc"
      },
      "execution_count": null,
      "outputs": [
        {
          "output_type": "execute_result",
          "data": {
            "text/plain": [
              "'/usr/local/lib/python3.10/dist-packages/pandas/'"
            ],
            "application/vnd.google.colaboratory.intrinsic+json": {
              "type": "string"
            }
          },
          "metadata": {},
          "execution_count": 209
        }
      ]
    },
    {
      "cell_type": "code",
      "source": [
        "import glob\n",
        "\n",
        "def File_Collection(s_paths,file_types):    #파라미터에 s를 붙이고 아규먼트는 한개라 안붙이는 스타일이라네\n",
        "    dummy_arg = s_paths + '**/*.' + file_types\n",
        "    print(dummy_arg)\n",
        "    file_lists = glob.glob(dummy_arg, recursive=True)\n",
        "    return file_lists"
      ],
      "metadata": {
        "id": "nnIpy0jf-21L"
      },
      "execution_count": null,
      "outputs": []
    },
    {
      "cell_type": "code",
      "source": [
        "file_list = File_Collection(s_path, 'py')"
      ],
      "metadata": {
        "colab": {
          "base_uri": "https://localhost:8080/"
        },
        "id": "bUr816IO8aLX",
        "outputId": "0f3e40bd-d784-4c80-b495-c2d82f7b5776"
      },
      "execution_count": null,
      "outputs": [
        {
          "output_type": "stream",
          "name": "stdout",
          "text": [
            "/usr/local/lib/python3.10/dist-packages/pandas/**/*.py\n"
          ]
        }
      ]
    },
    {
      "cell_type": "code",
      "source": [
        "len(file_list)"
      ],
      "metadata": {
        "colab": {
          "base_uri": "https://localhost:8080/"
        },
        "id": "QqfRJHfF_8rI",
        "outputId": "592fa3dd-78fa-4c59-ab9a-1dbb51757001"
      },
      "execution_count": null,
      "outputs": [
        {
          "output_type": "execute_result",
          "data": {
            "text/plain": [
              "1356"
            ]
          },
          "metadata": {},
          "execution_count": 217
        }
      ]
    },
    {
      "cell_type": "code",
      "source": [
        "lines"
      ],
      "metadata": {
        "id": "QoTw_pTcAjsQ"
      },
      "execution_count": null,
      "outputs": []
    },
    {
      "cell_type": "code",
      "source": [
        "search_sentence = 'index'\n",
        "file_dict = {}\n",
        "for filename in file_list:\n",
        "    #print(filename)\n",
        "    sentence_list = []\n",
        "    with open(filename) as f:\n",
        "        lines = f.readlines()\n",
        "    for item in lines:              # 끝까지 한줄한줄 그거를 검색해서\n",
        "        if search_sentence in item: # 우리가 검색할 대상 index를 아이템에 넣는다.\n",
        "            sentence_list.append(item)\n",
        "    if sentence_list :              # index가 있으면 실행\n",
        "        file_dict[filename[47:]] = sentence_list        # file_dict[filename[len(s_path):]] = sentence_list"
      ],
      "metadata": {
        "id": "9sVYE5Sy_-K4"
      },
      "execution_count": null,
      "outputs": []
    },
    {
      "cell_type": "code",
      "source": [
        "len(s_path)"
      ],
      "metadata": {
        "colab": {
          "base_uri": "https://localhost:8080/"
        },
        "id": "V3PneSAOBWU-",
        "outputId": "0a451df5-37c7-44fa-8382-4f4342e9ea57"
      },
      "execution_count": null,
      "outputs": [
        {
          "output_type": "execute_result",
          "data": {
            "text/plain": [
              "47"
            ]
          },
          "metadata": {},
          "execution_count": 219
        }
      ]
    },
    {
      "cell_type": "code",
      "source": [
        "filename[:]"
      ],
      "metadata": {
        "colab": {
          "base_uri": "https://localhost:8080/",
          "height": 35
        },
        "id": "pTGFYAXKBy_K",
        "outputId": "afda18dd-130a-496c-8d4c-e03346972b27"
      },
      "execution_count": null,
      "outputs": [
        {
          "output_type": "execute_result",
          "data": {
            "text/plain": [
              "'/usr/local/lib/python3.10/dist-packages/pandas/_testing/_random.py'"
            ],
            "application/vnd.google.colaboratory.intrinsic+json": {
              "type": "string"
            }
          },
          "metadata": {},
          "execution_count": 220
        }
      ]
    },
    {
      "cell_type": "code",
      "source": [
        "s_path"
      ],
      "metadata": {
        "colab": {
          "base_uri": "https://localhost:8080/",
          "height": 35
        },
        "id": "zBr3S1IrBX_B",
        "outputId": "1938ae93-5078-426a-bf27-502838f51085"
      },
      "execution_count": null,
      "outputs": [
        {
          "output_type": "execute_result",
          "data": {
            "text/plain": [
              "'/usr/local/lib/python3.10/dist-packages/pandas/'"
            ],
            "application/vnd.google.colaboratory.intrinsic+json": {
              "type": "string"
            }
          },
          "metadata": {},
          "execution_count": 221
        }
      ]
    },
    {
      "cell_type": "code",
      "source": [
        "import glob\n",
        "\n",
        "def File_Collection(s_paths,file_types):    #파라미터에 s를 붙이고 아규먼트는 한개라 안붙이는 스타일이라네\n",
        "    dummy_arg = s_paths + '**/*.' + file_types\n",
        "    print(dummy_arg)\n",
        "    file_lists = glob.glob(dummy_arg, recursive=True)\n",
        "    return file_lists"
      ],
      "metadata": {
        "id": "oQdHdX8hEIev"
      },
      "execution_count": null,
      "outputs": []
    },
    {
      "cell_type": "code",
      "source": [
        "def GetFileSentence(file_list, search_sentences, s_path):\n",
        "    file_dict = {}\n",
        "    for filename in file_list:\n",
        "        #print(filename)\n",
        "        sentence_list = []\n",
        "        with open(filename, encoding='UTF-8') as f:\n",
        "            lines = f.readlines()\n",
        "        for item in lines:              # 끝까지 한줄한줄 그거를 검색해서\n",
        "            if search_sentence in item: # 우리가 검색할 대상 index를 아이템에 넣는다.\n",
        "                sentence_list.append(item)\n",
        "        if sentence_list :              # index가 있으면 실행\n",
        "            file_dict[filename[len(s_path):]] = sentence_list\n",
        "    return(file_dict)"
      ],
      "metadata": {
        "id": "gXWU1-nBCXJp"
      },
      "execution_count": null,
      "outputs": []
    },
    {
      "cell_type": "code",
      "source": [
        "f_dict_result = GetFileSentence(file_list, 'index')     #클라이언트"
      ],
      "metadata": {
        "colab": {
          "base_uri": "https://localhost:8080/",
          "height": 174
        },
        "id": "SPgN7m2KClI5",
        "outputId": "e5a2b527-bdfd-4780-9394-ac8f2fb7e15e"
      },
      "execution_count": null,
      "outputs": [
        {
          "output_type": "error",
          "ename": "TypeError",
          "evalue": "ignored",
          "traceback": [
            "\u001b[0;31m---------------------------------------------------------------------------\u001b[0m",
            "\u001b[0;31mTypeError\u001b[0m                                 Traceback (most recent call last)",
            "\u001b[0;32m<ipython-input-228-2ec4cc2fe7ae>\u001b[0m in \u001b[0;36m<cell line: 1>\u001b[0;34m()\u001b[0m\n\u001b[0;32m----> 1\u001b[0;31m \u001b[0mf_dict_result\u001b[0m \u001b[0;34m=\u001b[0m \u001b[0mGetFileSentence\u001b[0m\u001b[0;34m(\u001b[0m\u001b[0mfile_list\u001b[0m\u001b[0;34m,\u001b[0m \u001b[0;34m'index'\u001b[0m\u001b[0;34m)\u001b[0m     \u001b[0;31m#클라이언트\u001b[0m\u001b[0;34m\u001b[0m\u001b[0;34m\u001b[0m\u001b[0m\n\u001b[0m",
            "\u001b[0;31mTypeError\u001b[0m: GetFileSentence() missing 1 required positional argument: 's_path'"
          ]
        }
      ]
    },
    {
      "cell_type": "code",
      "source": [
        "def print_result(fdr):\n",
        "    for i in fdr:\n",
        "        print(i)\n",
        "        print('==='*10)\n",
        "        for j in fdr[i]:\n",
        "            print('-   ', j.strip()) # 빈칸 제거 '-    '"
      ],
      "metadata": {
        "id": "mZ1KuQ32Cq3P"
      },
      "execution_count": null,
      "outputs": []
    },
    {
      "cell_type": "markdown",
      "source": [
        "python client.py > result # result로 받는다는거\n",
        "\n",
        "vi result\n",
        "\n",
        "more result\n",
        "\n",
        "로컬에서 할때 봐봐"
      ],
      "metadata": {
        "id": "8BZkVaNiFnFB"
      }
    },
    {
      "cell_type": "code",
      "source": [],
      "metadata": {
        "id": "aITfZMZnDAjj"
      },
      "execution_count": null,
      "outputs": []
    }
  ],
  "metadata": {
    "colab": {
      "provenance": [],
      "authorship_tag": "ABX9TyPAw/mUHEOjdaaiS8mCzNU8",
      "include_colab_link": true
    },
    "kernelspec": {
      "display_name": "Python 3",
      "name": "python3"
    },
    "language_info": {
      "name": "python"
    }
  },
  "nbformat": 4,
  "nbformat_minor": 0
}